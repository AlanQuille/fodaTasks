{
 "cells": [
  {
   "cell_type": "markdown",
   "metadata": {},
   "source": [
    "# Fundamentals of Data Analysis Tasks 2020"
   ]
  },
  {
   "cell_type": "markdown",
   "metadata": {},
   "source": [
    "# Task 1: counts"
   ]
  },
  {
   "cell_type": "markdown",
   "metadata": {},
   "source": [
    "This task was accomplished by writing the counts(**input_list**) function (where **input_list** is an argument with data type list) in Python, shown below.\n",
    "\n",
    "The function uses the unique(**list1**) function (where **list1** is an argument with data type list), which was taken from the website GeeksforGeeks [1](#ref1).  \n",
    "\n",
    "The algorithm for unique(**list1**) is given as follows:\n",
    "\n",
    "1. An empty list called **return_list** is defined.\n",
    "2. Each element of **list1** (called **x**) is traversed in a for loop.\n",
    "3. In the loop, if **x** is not in **return_list**, **x** is appended to **return_list**.\n",
    "\n",
    "When the traversal of **list1** is finished, **return_list** is returned by unique(**list1**).\n",
    "\n",
    "The algorithm for counts(**input_list**) is given as follows:\n",
    "\n",
    "1. unique(**list1**) is called with **input_list** as the argument **list1**.\n",
    "2. The return value of this call is assigned to **unique_list**.\n",
    "3. Each element of **unique_list** (called **i**) is traversed in a for loop.\n",
    "4. A value of 0 is assigned to the dictionary **output_dict** in the loop at key = **i**.\n",
    "5. Each element of **input_list** (called **j**) is traversed in another for loop in this loop.\n",
    "6. If **i** equals **j**, the value of **output_dict** at key= **i** is incremented.\n",
    "\n",
    "When the traversal of unique_list is finished, **output_dict** is returned by counts(**input_list**).\n",
    "\n",
    "The function definition for unique() is given as follows:"
   ]
  },
  {
   "cell_type": "code",
   "execution_count": 27,
   "metadata": {},
   "outputs": [],
   "source": [
    "# function to get unique values \n",
    "def unique(list1): \n",
    "  \n",
    "    # intilize a null list \n",
    "    return_list = [] \n",
    "      \n",
    "    # traverse for all elements \n",
    "    for x in list1: \n",
    "        # check if exists in unique_list or not \n",
    "        if x not in return_list: \n",
    "            return_list.append(x) \n",
    "    # print list \n",
    "  #  for x in unique_list: \n",
    "     #   print(x)\n",
    "    return return_list"
   ]
  },
  {
   "cell_type": "markdown",
   "metadata": {},
   "source": [
    "The function definition for counts() is given as follows:"
   ]
  },
  {
   "cell_type": "code",
   "execution_count": 28,
   "metadata": {},
   "outputs": [],
   "source": [
    "# Assigns how many times an entry appears\n",
    "# in the list argument input_list to a \n",
    "# dictionary. The dictionary's keys are \n",
    "# the unique elements of input_list\n",
    "def counts(input_list):\n",
    "\n",
    "    # The dictionary counts returns\n",
    "    output_dict = {}\n",
    "    # Unique elements of input_list\n",
    "    unique_list = unique(input_list)\n",
    "\n",
    "    # Traverse each element of unique_list:\n",
    "    for i in unique_list:\n",
    "        # the number is initially 0 for each key of output_dict\n",
    "        output_dict[i] = 0\n",
    "        # Traverse each element of the original input_list\n",
    "        for j in input_list:\n",
    "            # if element of unique_list = element of input_list\n",
    "            if(i==j):\n",
    "                # increase the count for each key of output_dict\n",
    "                output_dict[i] += 1\n",
    "        \n",
    "    # Return the dictionary\n",
    "    return output_dict"
   ]
  },
  {
   "cell_type": "markdown",
   "metadata": {},
   "source": [
    "A test input list is used as the argument input_list:"
   ]
  },
  {
   "cell_type": "code",
   "execution_count": 29,
   "metadata": {},
   "outputs": [
    {
     "data": {
      "text/plain": [
       "{'A': 3, 'B': 1, 'C': 1}"
      ]
     },
     "execution_count": 29,
     "metadata": {},
     "output_type": "execute_result"
    }
   ],
   "source": [
    "input_list = ['A','A','B','C','A']\n",
    "counts(input_list)"
   ]
  },
  {
   "cell_type": "markdown",
   "metadata": {},
   "source": [
    "The result has been verified to be correct.\n",
    "\n",
    "# Task 2: dicerolls\n",
    "The task is to simulate a dice or die being rolled a number of times. This task was accomplished by writing the dicerolls(**n**, **k**) function (where **n** is an integer representing the number of dice rolls and **k** is an integer representing the number of die).\n",
    "\n",
    "The algorithm for the dice_rolls is given as follows:\n",
    "    \n",
    "1. An empty dictionary called **output_dict** is defined.\n",
    "2. A variable called **sum** is defined and set to 0.\n",
    "3. A for loop with range 0 and **n** is called.\n",
    "4. In the for loop, a function from the **random** module in \n",
    "   the **numpy** package called randint is called. [2](#2) \n",
    "5. This function generates a list of randomly generated integers\n",
    "   from 1 to 7 called **dice_rolls**. The list is of size **k**.\n",
    "6. **dice_rolls** is summed using the sum function from the **numpy**\n",
    "   package. The variable called **sum** is set to this sum.\n",
    "7. An if statement determines if **sum** is not already in the \n",
    "   keys of the dictionary **output_dict**\n",
    "8. If the if statement returns True, than **output_dict** at key\n",
    "   **sum** is set to 1.\n",
    "9. If it returns False, an else statement increments the **output_dict** at\n",
    "   key **sum** by 1.\n",
    "       \n",
    "The dicerolls function is called with **n**=1000 and **k**=2. The result is set to **d**."
   ]
  },
  {
   "cell_type": "code",
   "execution_count": 30,
   "metadata": {},
   "outputs": [
    {
     "name": "stdout",
     "output_type": "stream",
     "text": [
      "{7: 188, 8: 146, 10: 72, 5: 109, 11: 65, 9: 93, 2: 27, 12: 23, 4: 74, 3: 50, 6: 153}\n"
     ]
    }
   ],
   "source": [
    "# numpy for numpy array\n",
    "import numpy as np\n",
    "# collections for OrdererdDict\n",
    "import collections\n",
    "# pyplot for plotting.\n",
    "import matplotlib.pyplot as plt\n",
    "\n",
    "# dicerolls function\n",
    "def dicerolls(k, n):\n",
    "    \n",
    "    # output_dict empty dictionary\n",
    "    output_dict = {}\n",
    "    # sum variable set to 0\n",
    "    sum = 0\n",
    "    \n",
    "    # for loop from 0 to n\n",
    "    for i in range(0, n):\n",
    "        \n",
    "        # dice_rolls numpy array of random integers from 1 (inclusive) to 7 (not inclusive)\n",
    "        # to simulate dice roll. This is done k times (number of die=k)\n",
    "        dice_rolls = np.random.randint(1, 7, size=k)\n",
    "        \n",
    "        # sum is set to sum of dice_rolls\n",
    "        sum = dice_rolls.sum()\n",
    "        \n",
    "        # if sum is not in the keys of output_dict\n",
    "        # set output_dict[sum] to 1.\n",
    "        # else increment output_dict by 1\n",
    "        if(sum not in output_dict.keys()):\n",
    "            output_dict[sum] = 1\n",
    "        else:\n",
    "            output_dict[sum] += 1\n",
    "    \n",
    "    # output_dict is return value of dice rolls\n",
    "    return output_dict\n",
    "\n",
    "# d is set to dicerolls, with n = 1000 and k = 2\n",
    "d = dicerolls(2, 1000)\n",
    "print(d)"
   ]
  },
  {
   "cell_type": "markdown",
   "metadata": {},
   "source": [
    "In order to compare the result with the dictionary shown in the assignment PDF document, the keys should be sorted to make it clearer. This is accomplished using the OrderedDict function from the **collections** [3](#3) package."
   ]
  },
  {
   "cell_type": "code",
   "execution_count": 31,
   "metadata": {},
   "outputs": [
    {
     "name": "stdout",
     "output_type": "stream",
     "text": [
      "{2: 27, 3: 50, 4: 74, 5: 109, 6: 153, 7: 188, 8: 146, 9: 93, 10: 72, 11: 65, 12: 23}\n",
      "{2: 19, 3: 50, 4: 82, 5: 112, 6: 135, 7: 174, 8: 133, 9: 114, 10: 75, 11: 70, 12: 36}\n"
     ]
    }
   ],
   "source": [
    "od = collections.OrderedDict(sorted(d.items()))\n",
    "\n",
    "str_out = ''\n",
    "str_out += '{'\n",
    "for k, v in od.items():\n",
    "    str_out +=\"{}: {}, \".format(k, v)\n",
    " \n",
    "str_out = str_out[:-2]\n",
    "str_out += '}'\n",
    "\n",
    "print(str_out)\n",
    "test_dict = {2:19, 3:50, 4:82, 5:112, 6:135, 7:174, 8:133, 9:114, 10:75, 11:70, 12:36}\n",
    "print(test_dict)"
   ]
  },
  {
   "cell_type": "markdown",
   "metadata": {},
   "source": [
    "As can be seen, the dictionary **d** (with sorted keys) is very similar to the dictionary shown in the assignemnt (called **test_dict** here). This is further confirmed by comparing the two dictionaries side by side in a bar chart using the **pyplot** module from the **matplotlib** package [4](#4):"
   ]
  },
  {
   "cell_type": "code",
   "execution_count": 32,
   "metadata": {
    "scrolled": true
   },
   "outputs": [
    {
     "data": {
      "image/png": "[encoded data removed]",
      "text/plain": [
       "<Figure size 432x288 with 1 Axes>"
      ]
     },
     "metadata": {
      "needs_background": "light"
     },
     "output_type": "display_data"
    }
   ],
   "source": [
    "plt.bar(list(d.keys()), d.values(), color='b')\n",
    "plt.bar(list(test_dict.keys()), test_dict.values(), color='r')\n",
    "\n",
    "# Bar chart title\n",
    "plt.title(\"Bar charts of d and test_dict\", fontsize=25)\n",
    "    \n",
    "# the x label of bar charts\n",
    "plt.xlabel(\"Number\", fontsize=20)\n",
    "    \n",
    "# the y label of bar charts\n",
    "plt.ylabel(\"Frequency\", fontsize=20)\n",
    "    \n",
    "# change size of ticks of x and y axes\n",
    "ax = plt.gca()\n",
    "ax.tick_params(axis = 'both', which = 'major', labelsize = 14)\n",
    "\n",
    "# Show all xticks\n",
    "plt.xticks(list(d.keys()))\n",
    "\n",
    "# Show plot after all is said and done\n",
    "plt.show()"
   ]
  },
  {
   "cell_type": "markdown",
   "metadata": {},
   "source": [
    "The blue chart represents the dictionary **d** and the red chart represents the dictionary **test_dict**. As can be seen from the charts, they overlap a great deal and are very similar.\n",
    "# Task 3: coin flipping\n",
    "The task is to show that flipping a coin repeatedly and plotting the distribution of the number of heads results in a bell-shaped curve. This is accomplished using the numpy.random.binomial function in the **random** module in the **numpy** package. [5](#5)\n",
    "\n",
    "This function is used to generate the sum of 100 random integers between 0 and 1 inclusive, so there is a 50% chance of getting a 0 (heads) and a 50% chance of getting a 1 (tails) (this is identical to a perfectly unbiased coin flip) [6](#6). The sum will add 0 if it is tails (failure) and 1 if it is heads (success) so the sum is identical to the number of heads. This is done 1000 times and is output to a numpy array called **coin_flip**. Afterwards, the dataset of the number of heads per iterations is plotted using a histogram using the **pyplot** module from the **matplotlib** package."
   ]
  },
  {
   "cell_type": "code",
   "execution_count": 117,
   "metadata": {
    "scrolled": false
   },
   "outputs": [
    {
     "data": {
      "image/png": "[encoded data removed]",
      "text/plain": [
       "<Figure size 432x288 with 1 Axes>"
      ]
     },
     "metadata": {},
     "output_type": "display_data"
    }
   ],
   "source": [
    "# numpy for numpy array and binomial\n",
    "import numpy as np\n",
    "# pyplot for plotting.\n",
    "import matplotlib.pyplot as plt\n",
    "\n",
    "# this generates a list of size 1000\n",
    "# each element of list is sum\n",
    "# of number of successes in each\n",
    "# coin toss simulation.\n",
    "coin_flip = np.random.binomial(100, 0.5, 1000)   \n",
    "    \n",
    "# plot histogram of sum_heads\n",
    "plt.hist(coin_flip);\n",
    "\n",
    "# Histogram\n",
    "plt.title(\"Histogram of number of heads\", fontsize=25)\n",
    "\n",
    "# the x label of histogram\n",
    "plt.xlabel(\"Heads\", fontsize=20)\n",
    "\n",
    "# the y label of histogram\n",
    "plt.ylabel(\"Frequency\", fontsize=20)\n",
    "\n",
    "# change size of ticks of x and y axes of histogram\n",
    "ax = plt.gca()\n",
    "ax.tick_params(axis = 'both', which = 'major', labelsize = 14)"
   ]
  },
  {
   "cell_type": "markdown",
   "metadata": {},
   "source": [
    "As can be seen from the histogram, the distribution of **coin_flip** resembles a Gaussian/normal distribution or bell curve. Most of the values are close to the mean of **coin_flip** (50) and the number of heads decreases the further away the value is from the mean. However, this can be made clearer by plotting the dataset using a kernel density estimate (KDE) plot. These plots first estimate the probability density function of a random variable using a given dataset and then plots the resulting PDF. This is accomplished using the **seaborn** module which has the function kdeplot. First, a dataset called **normal_pdf** is generated using the probability density function of the normal distribution [7](#7), the mean, standard deviation and size being equal to the mean, standard deviation and size of **coin_flip**. Then the KDE graphs of **coin_flip** are plotted on the same axes using the subplots function from the **pyplot** module to compare the normal distribution with the distribution of **sum_heads**:"
   ]
  },
  {
   "cell_type": "code",
   "execution_count": 119,
   "metadata": {
    "scrolled": true
   },
   "outputs": [
    {
     "data": {
      "image/png": "[encoded data removed]",
      "text/plain": [
       "<Figure size 432x288 with 1 Axes>"
      ]
     },
     "metadata": {},
     "output_type": "display_data"
    }
   ],
   "source": [
    "# import seaborn for kdeplot\n",
    "import seaborn as sns   \n",
    "# make grid to enhance\n",
    "# and clarify graphs\n",
    "sns.set()\n",
    "\n",
    "# generate x values in range of histogram shown previously\n",
    "x = np.linspace(30, 70, len(coin_flip))\n",
    "\n",
    "# calculate multiplicative factors of PDF of normal distribution\n",
    "f1 = 1/(np.std(coin_flip)*np.sqrt(2*np.pi))\n",
    "f3 = x - np.mean(coin_flip)\n",
    "f2 = (f3*f3)/(np.std(coin_flip)*np.std(coin_flip))\n",
    "# calculate PDF using multiplicative factors\n",
    "normal_pdf = f1*np.exp(-0.5 * (f2))\n",
    "\n",
    "\n",
    "# Plot KDE of sum_heads and plot of normal_pdf\n",
    "# on same axes\n",
    "sns.kdeplot(coin_flip)\n",
    "plt.plot(x, normal_pdf)\n",
    "\n",
    "# Title of plots\n",
    "plt.title(\"KDE of sum_heads with normal PDF\", fontsize=22)\n",
    "\n",
    "# the x label of plots\n",
    "plt.xlabel(\"Heads\", fontsize=20)\n",
    "\n",
    "# the y label of plots\n",
    "plt.ylabel(\"Probability\", fontsize=20)\n",
    "\n",
    "# change size of ticks of x and y axes of plots\n",
    "ax = plt.gca()\n",
    "ax.tick_params(axis = 'both', which = 'major', labelsize = 14)"
   ]
  },
  {
   "cell_type": "markdown",
   "metadata": {},
   "source": [
    "As can be seen from the graph, the distribution of **coin_flip** is very close to the normal distribution."
   ]
  },
  {
   "cell_type": "markdown",
   "metadata": {},
   "source": [
    "## References ##"
   ]
  },
  {
   "cell_type": "markdown",
   "metadata": {},
   "source": [
    "[1] Geeks for Geeks, accessed 7 October 2020, <https://www.geeksforgeeks.org/python-get-unique-values-list/> <a name=\"ref1\"></a> <a name=\"1\"></a> <br>\n",
    "[2] Numpy.org. 2020. Random Sampling (Numpy.Random) — Numpy V1.19 Manual. [online] Available at: <https://numpy.org/doc/stable/reference/random/index.html#> [Accessed 7 November 2020]. <a name=\"2\"></a><br>\n",
    "[3] Docs.python.org. 2020. 8.3. Collections — High-Performance Container Datatypes — Python 2.7.18 Documentation. [online] Available at: <https://docs.python.org/2/library/collections.html> [Accessed 7 November 2020]. <a name=\"3\"></a><br>\n",
    "[4] Matplotlib.org. 2020. Pyplot — Matplotlib 2.0.2 Documentation. [online] Available at: <https://matplotlib.org/api/pyplot_api.html> [Accessed 7 November 2020]. <a name=\"4\"></a> <br>\n",
    "[5] Numpy.org. 2020. Numpy.Random.Binomial — Numpy V1.19 Manual. [online] Available at: <https://numpy.org/doc/stable/reference/random/generated/numpy.random.binomial.html> [Accessed 16 November 2020]. <a name=\"5\"></a> <br>\n",
    "[6] Eecs.harvard.edu. 2020. [online] Available at: <http://www.eecs.harvard.edu/~michaelm/coinflipext.pdf> [Accessed 16 November 2020]. <a name=\"6\"></a> <br>\n",
    "[7] Probabilitycourse.com. 2020. Normal Distribution | Gaussian | Normal Random Variables | PDF. [online] Available at: <https://www.probabilitycourse.com/chapter4/4_2_3_normal.php> [Accessed 16 November 2020]. <a name=\"7\"></a>"
   ]
  }
 ],
 "metadata": {
  "kernelspec": {
   "display_name": "Python 3",
   "language": "python",
   "name": "python3"
  },
  "language_info": {
   "codemirror_mode": {
    "name": "ipython",
    "version": 3
   },
   "file_extension": ".py",
   "mimetype": "text/x-python",
   "name": "python",
   "nbconvert_exporter": "python",
   "pygments_lexer": "ipython3",
   "version": "3.8.5"
  }
 },
 "nbformat": 4,
 "nbformat_minor": 4
}
